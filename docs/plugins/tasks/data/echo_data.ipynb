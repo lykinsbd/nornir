{
 "cells": [
  {
   "cell_type": "markdown",
   "metadata": {},
   "source": [
    "# echo_data"
   ]
  },
  {
   "cell_type": "code",
   "execution_count": 1,
   "metadata": {},
   "outputs": [
    {
     "name": "stdout",
     "output_type": "stream",
     "text": [
      "\n",
      "    Dummy task that echoes the data passed to it. Useful in grouped_tasks\n",
      "    to debug data passed to tasks.\n",
      "\n",
      "    Arguments:\n",
      "        ``**kwargs``: Any <key,value> pair you want\n",
      "\n",
      "    Returns:\n",
      "        Result object with the following attributes set:\n",
      "          * result (``dict``): ``**kwargs`` passed to the task\n",
      "    \n"
     ]
    }
   ],
   "source": [
    "from nornir.plugins.tasks.data import echo_data\n",
    "\n",
    "print(echo_data.__doc__)"
   ]
  },
  {
   "cell_type": "markdown",
   "metadata": {},
   "source": [
    "## Example"
   ]
  },
  {
   "cell_type": "code",
   "execution_count": 2,
   "metadata": {},
   "outputs": [
    {
     "name": "stdout",
     "output_type": "stream",
     "text": [
      "\u001b[1m\u001b[36mgrouped_task********************************************************************\u001b[0m\n",
      "\u001b[0m\u001b[1m\u001b[34m* bat ** changed : False *******************************************************\u001b[0m\n",
      "\u001b[0m\u001b[1m\u001b[32mvvvv grouped_task ** changed : False vvvvvvvvvvvvvvvvvvvvvvvvvvvvvvvvvvvvvvvvvvv INFO\u001b[0m\n",
      "\u001b[0m\u001b[1m\u001b[32m---- bat ** changed : False ---------------------------------------------------- INFO\u001b[0m\n",
      "\u001b[0m{\u001b[0m \u001b[0m'diet'\u001b[0m: \u001b[0m'carnivore'\u001b[0m,\n",
      "  \u001b[0m'even_complex'\u001b[0m: \u001b[0m{'a': 1, 'b': 2, 'c': 'asd'}\u001b[0m,\n",
      "  \u001b[0m'famous_members'\u001b[0m: \u001b[0m['batman', 'count chocula', 'nosferatu']\u001b[0m,\n",
      "  \u001b[0m'more_data'\u001b[0m: \u001b[0m'whatever you want'\u001b[0m}\u001b[0m\n",
      "\u001b[0m\u001b[1m\u001b[32m^^^^ END grouped_task ^^^^^^^^^^^^^^^^^^^^^^^^^^^^^^^^^^^^^^^^^^^^^^^^^^^^^^^^^^\u001b[0m\n",
      "\u001b[0m\u001b[1m\u001b[34m* canary ** changed : False ****************************************************\u001b[0m\n",
      "\u001b[0m\u001b[1m\u001b[32mvvvv grouped_task ** changed : False vvvvvvvvvvvvvvvvvvvvvvvvvvvvvvvvvvvvvvvvvvv INFO\u001b[0m\n",
      "\u001b[0m\u001b[1m\u001b[32m---- canary ** changed : False ------------------------------------------------- INFO\u001b[0m\n",
      "\u001b[0m{\u001b[0m \u001b[0m'diet'\u001b[0m: \u001b[0m'herbivore'\u001b[0m,\n",
      "  \u001b[0m'even_complex'\u001b[0m: \u001b[0m{'a': 1, 'b': 2, 'c': 'asd'}\u001b[0m,\n",
      "  \u001b[0m'famous_members'\u001b[0m: \u001b[0m['tweetie']\u001b[0m,\n",
      "  \u001b[0m'more_data'\u001b[0m: \u001b[0m'whatever you want'\u001b[0m}\u001b[0m\n",
      "\u001b[0m\u001b[1m\u001b[32m^^^^ END grouped_task ^^^^^^^^^^^^^^^^^^^^^^^^^^^^^^^^^^^^^^^^^^^^^^^^^^^^^^^^^^\u001b[0m\n",
      "\u001b[0m\u001b[1m\u001b[34m* cat ** changed : False *******************************************************\u001b[0m\n",
      "\u001b[0m\u001b[1m\u001b[32mvvvv grouped_task ** changed : False vvvvvvvvvvvvvvvvvvvvvvvvvvvvvvvvvvvvvvvvvvv INFO\u001b[0m\n",
      "\u001b[0m\u001b[1m\u001b[32m---- cat ** changed : False ---------------------------------------------------- INFO\u001b[0m\n",
      "\u001b[0m{\u001b[0m \u001b[0m'diet'\u001b[0m: \u001b[0m'omnivore'\u001b[0m,\n",
      "  \u001b[0m'even_complex'\u001b[0m: \u001b[0m{'a': 1, 'b': 2, 'c': 'asd'}\u001b[0m,\n",
      "  \u001b[0m'famous_members'\u001b[0m: \u001b[0m['garfield', 'felix', 'grumpy']\u001b[0m,\n",
      "  \u001b[0m'more_data'\u001b[0m: \u001b[0m'whatever you want'\u001b[0m}\u001b[0m\n",
      "\u001b[0m\u001b[1m\u001b[32m^^^^ END grouped_task ^^^^^^^^^^^^^^^^^^^^^^^^^^^^^^^^^^^^^^^^^^^^^^^^^^^^^^^^^^\u001b[0m\n",
      "\u001b[0m\u001b[1m\u001b[34m* caterpillaer ** changed : False **********************************************\u001b[0m\n",
      "\u001b[0m\u001b[1m\u001b[32mvvvv grouped_task ** changed : False vvvvvvvvvvvvvvvvvvvvvvvvvvvvvvvvvvvvvvvvvvv INFO\u001b[0m\n",
      "\u001b[0m\u001b[1m\u001b[32m---- caterpillaer ** changed : False ------------------------------------------- INFO\u001b[0m\n",
      "\u001b[0m{\u001b[0m \u001b[0m'diet'\u001b[0m: \u001b[0m'herbivore'\u001b[0m,\n",
      "  \u001b[0m'even_complex'\u001b[0m: \u001b[0m{'a': 1, 'b': 2, 'c': 'asd'}\u001b[0m,\n",
      "  \u001b[0m'famous_members'\u001b[0m: \u001b[0m['Hookah-Smoking']\u001b[0m,\n",
      "  \u001b[0m'more_data'\u001b[0m: \u001b[0m'whatever you want'\u001b[0m}\u001b[0m\n",
      "\u001b[0m\u001b[1m\u001b[32m^^^^ END grouped_task ^^^^^^^^^^^^^^^^^^^^^^^^^^^^^^^^^^^^^^^^^^^^^^^^^^^^^^^^^^\u001b[0m\n",
      "\u001b[0m\u001b[1m\u001b[34m* eagle ** changed : False *****************************************************\u001b[0m\n",
      "\u001b[0m\u001b[1m\u001b[32mvvvv grouped_task ** changed : False vvvvvvvvvvvvvvvvvvvvvvvvvvvvvvvvvvvvvvvvvvv INFO\u001b[0m\n",
      "\u001b[0m\u001b[1m\u001b[32m---- eagle ** changed : False -------------------------------------------------- INFO\u001b[0m\n",
      "\u001b[0m{\u001b[0m \u001b[0m'diet'\u001b[0m: \u001b[0m'carnivore'\u001b[0m,\n",
      "  \u001b[0m'even_complex'\u001b[0m: \u001b[0m{'a': 1, 'b': 2, 'c': 'asd'}\u001b[0m,\n",
      "  \u001b[0m'famous_members'\u001b[0m: \u001b[0m['thorondor', 'sam']\u001b[0m,\n",
      "  \u001b[0m'more_data'\u001b[0m: \u001b[0m'whatever you want'\u001b[0m}\u001b[0m\n",
      "\u001b[0m\u001b[1m\u001b[32m^^^^ END grouped_task ^^^^^^^^^^^^^^^^^^^^^^^^^^^^^^^^^^^^^^^^^^^^^^^^^^^^^^^^^^\u001b[0m\n",
      "\u001b[0m\u001b[1m\u001b[34m* octopus ** changed : False ***************************************************\u001b[0m\n",
      "\u001b[0m\u001b[1m\u001b[32mvvvv grouped_task ** changed : False vvvvvvvvvvvvvvvvvvvvvvvvvvvvvvvvvvvvvvvvvvv INFO\u001b[0m\n",
      "\u001b[0m\u001b[1m\u001b[32m---- octopus ** changed : False ------------------------------------------------ INFO\u001b[0m\n",
      "\u001b[0m{\u001b[0m \u001b[0m'diet'\u001b[0m: \u001b[0m'carnivore'\u001b[0m,\n",
      "  \u001b[0m'even_complex'\u001b[0m: \u001b[0m{'a': 1, 'b': 2, 'c': 'asd'}\u001b[0m,\n",
      "  \u001b[0m'famous_members'\u001b[0m: \u001b[0m['sharktopus']\u001b[0m,\n",
      "  \u001b[0m'more_data'\u001b[0m: \u001b[0m'whatever you want'\u001b[0m}\u001b[0m\n",
      "\u001b[0m\u001b[1m\u001b[32m^^^^ END grouped_task ^^^^^^^^^^^^^^^^^^^^^^^^^^^^^^^^^^^^^^^^^^^^^^^^^^^^^^^^^^\u001b[0m\n",
      "\u001b[0m"
     ]
    }
   ],
   "source": [
    "from nornir import InitNornir\n",
    "from nornir.plugins.tasks.data import echo_data\n",
    "from nornir.plugins.functions.text import print_result\n",
    "\n",
    "nr = InitNornir(\n",
    "    inventory={\n",
    "        \"options\": {\n",
    "            \"host_file\": \"echo_data/inventory/hosts.yaml\",\n",
    "            \"group_file\": \"echo_data/inventory/groups.yaml\"\n",
    "        }\n",
    "    }\n",
    ")\n",
    "\n",
    "def grouped_task(task):\n",
    "    task.run(task=echo_data,\n",
    "             name=task.host.name,\n",
    "             diet=task.host[\"diet\"],\n",
    "             famous_members=task.host[\"additional_data\"][\"famous_members\"],\n",
    "             more_data=\"whatever you want\",\n",
    "             even_complex={\"a\": 1, \"b\": 2, \"c\": \"asd\"})\n",
    "    \n",
    "r = nr.run(task=grouped_task)\n",
    "print_result(r)"
   ]
  }
 ],
 "metadata": {
  "kernelspec": {
   "display_name": "Python 3",
   "language": "python",
   "name": "python3"
  },
  "language_info": {
   "codemirror_mode": {
    "name": "ipython",
    "version": 3
   },
   "file_extension": ".py",
   "mimetype": "text/x-python",
   "name": "python",
   "nbconvert_exporter": "python",
   "pygments_lexer": "ipython3",
   "version": "3.7.0"
  }
 },
 "nbformat": 4,
 "nbformat_minor": 2
}
